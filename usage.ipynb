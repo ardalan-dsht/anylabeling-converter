{
 "cells": [
  {
   "cell_type": "markdown",
   "metadata": {},
   "source": [
    "# Convert lables from anylabeling to Microsoft COCO"
   ]
  },
  {
   "cell_type": "code",
   "execution_count": 2,
   "metadata": {},
   "outputs": [],
   "source": [
    "from anylabeling_converter import AnyToCocoConverter\n",
    "from pathlib import Path"
   ]
  },
  {
   "cell_type": "markdown",
   "metadata": {},
   "source": [
    "Create two paths which are the anylabeling root directory and your new coco directory."
   ]
  },
  {
   "cell_type": "code",
   "execution_count": 3,
   "metadata": {},
   "outputs": [],
   "source": [
    "anylabeling_root_dir = Path(\"./raw\")\n",
    "coco_root_dir = Path(\"./coco\")"
   ]
  },
  {
   "cell_type": "markdown",
   "metadata": {},
   "source": [
    "When you create an AnyToCocoConverter object it converts the labels to coco format but in order to get the converted files you need to call this method."
   ]
  },
  {
   "cell_type": "code",
   "execution_count": 4,
   "metadata": {},
   "outputs": [],
   "source": [
    "coco_converter = AnyToCocoConverter(anylabeling_root_dir)"
   ]
  },
  {
   "cell_type": "markdown",
   "metadata": {},
   "source": [
    "Coco datasets store some metadata which you need to add manually."
   ]
  },
  {
   "cell_type": "code",
   "execution_count": 1,
   "metadata": {},
   "outputs": [],
   "source": [
    "coco_info = {\n",
    "        \"year\": \"2024\",\n",
    "        \"version\": \"1.0\",\n",
    "        \"description\": \"Provide some info about the labeling process or about the dataset.\",\n",
    "        \"contributor\": \"ardalan\",\n",
    "        \"url\": \"company.domain\",\n",
    "        \"date_created\": \"2024-01-01\"\n",
    "}\n",
    "coco_licenses = [{\n",
    "          \"url\": \"http://creativecommons.org/licenses/by-nc-sa/2.0/\",\n",
    "          \"id\": 0,\n",
    "          \"name\": \"Attribution-NonCommercial-ShareAlike License\"}]"
   ]
  },
  {
   "cell_type": "markdown",
   "metadata": {},
   "source": [
    "This is the main method which converts your anylabeling labels to a coco dataset."
   ]
  },
  {
   "cell_type": "code",
   "execution_count": 6,
   "metadata": {},
   "outputs": [],
   "source": [
    "coco_converter.create_coco(info=coco_info, licenses=coco_licenses, coco_root_dir=coco_root_dir)"
   ]
  },
  {
   "cell_type": "markdown",
   "metadata": {},
   "source": [
    "Keep in mind that all images will be copied to your new directory which is your coco dataset and the anylabeling dataset would stay untoched."
   ]
  }
 ],
 "metadata": {
  "kernelspec": {
   "display_name": "ml",
   "language": "python",
   "name": "python3"
  },
  "language_info": {
   "codemirror_mode": {
    "name": "ipython",
    "version": 3
   },
   "file_extension": ".py",
   "mimetype": "text/x-python",
   "name": "python",
   "nbconvert_exporter": "python",
   "pygments_lexer": "ipython3",
   "version": "3.11.7"
  }
 },
 "nbformat": 4,
 "nbformat_minor": 2
}
